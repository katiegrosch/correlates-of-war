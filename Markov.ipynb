{
 "cells": [
  {
   "cell_type": "markdown",
   "metadata": {},
   "source": [
    "<i> War is the continuation of politics by other means. </i>\n",
    "    \n",
    "    Karl von Clausewitz"
   ]
  },
  {
   "cell_type": "markdown",
   "metadata": {},
   "source": [
    "Before delving into CoW, we will create a Markov model that captures many of the major dynamics in an interstate alliance system."
   ]
  },
  {
   "cell_type": "markdown",
   "metadata": {},
   "source": [
    "In a Markov model, current system state is determined only by previous state combined with a set of transition probabilities and update rules. In an NxN country system, we care about the following elements of state:\n",
    "\n",
    "- War: Whether two countries are at war.\n",
    "- Affinity: The military dynamic between two countries, including aid and alliance.\n",
    "- Power: Relative power dynamics of each country pair.\n",
    "- Events: Exogenous events provoking conflict.\n",
    "\n",
    "We will discretize as follows:\n",
    "\n",
    "- War: {0, 1}; 0 is war and 1 is peace.\n",
    "- Affinity: {-1, -.5, 0, .5, 1}; 1 represents full opposition, 0.5 negative indirect activity (arms shipments, political pressure, or other opposition), 0 no interaction, -0.5 positive indirect activity, and -1 full alliance.\n",
    "- Power: {-1, -.9, ..., 1}; -1 is minimum relative power (capitulation) and 1 is maximum power.\n",
    "- Events: {-1, -.9, ..., 1}; -1 is a maximally tension-lowering event, 0 is no event, and 1 is a maximally tension-raising event.\n",
    "\n",
    "We also want to capture elements of geographical location and policy through the following fixed variables:\n",
    "\n",
    "- Proximity: {0, .25, .5, .75, 1}; 0 for no potential interaction fronts and 1 for neighboring countries.\n",
    "- Aggression: {-1, -.5, 0, .5, 1}; -1 for peaceful orientation and 1 for aggressive orientation."
   ]
  },
  {
   "cell_type": "markdown",
   "metadata": {},
   "source": [
    "Whether two countries are at war will depend on the following elements of the prior state:\n",
    "\n",
    "- Prior war status of self and allies\n",
    "- Current affinity\n",
    "- Current power\n",
    "- Event influence\n",
    "- Base transition probabilities and aggression levels\n",
    "\n",
    "Affinity is affected by the following:\n",
    "\n",
    "- Prior war status\n",
    "- Prior affinity\n",
    "- Prior relative power\n",
    "- Base transition probabilities\n",
    "\n",
    "Power is affected by the following:\n",
    "\n",
    "- Prior power\n",
    "- Prior power- and proximity-adjusted influence of allies and enemies\n",
    "\n",
    "We will begin by modeling with a \"season\" (3-month interval) as the timestep."
   ]
  },
  {
   "cell_type": "markdown",
   "metadata": {},
   "source": [
    "Therefore:\n",
    "\n",
    "    war(c1, c2, t): f(\n",
    "        war(c1, c2, t-1),\n",
    "        [war(c2, c3, t-1) * affinity(c1, c3, t) for c3 != c1,c2],\n",
    "        [war(c1, c3, t-1) * affinity(c2, c3, t) for c3 != c1,c2],\n",
    "        affinity(c1, c2, t-1),\n",
    "        power(c1, t-1),\n",
    "        power(c2, t-1),\n",
    "        event(c1, c2, t-1),\n",
    "        aggression(c1)\n",
    "    )\n",
    "        \n",
    "    affinity(c1, c2, t): f(\n",
    "        war(c1, c2, t-1),\n",
    "        affinity(c1, c2, t-1),\n",
    "        power(c1, t-1),\n",
    "        power(c2, t-1)\n",
    "    )\n",
    "    \n",
    "    power(c1, t): f(\n",
    "        power(c1, t-1),\n",
    "        [affinity(c1, c2, t-1) * power(c2, t-1) * proximity(c1, c2) for c2 != c1]\n",
    "    )"
   ]
  },
  {
   "cell_type": "markdown",
   "metadata": {},
   "source": [
    "Our plan of attack:\n",
    "\n",
    "1. Encode update rules and state machine\n",
    "2. Set base parameters and transition probabilities\n",
    "3. Simulate and evaluate results for WWI\n",
    "4. Estimate true parameters and probabilities from CoW\n",
    "5. Simulate and evaluate results for WWI\n",
    "6. Experiment with other international systems"
   ]
  },
  {
   "cell_type": "code",
   "execution_count": 1,
   "metadata": {},
   "outputs": [],
   "source": [
    "import numpy as np"
   ]
  },
  {
   "cell_type": "code",
   "execution_count": 2,
   "metadata": {},
   "outputs": [],
   "source": [
    "# Order: Austria (Austria-Hungary), England (Britain), France, Germany, Italy, Russia, Turkey (Ottoman Empire)\n",
    "\n",
    "def index():\n",
    "    return {c: i for i, c in enumerate(['A', 'E', 'F', 'G', 'I', 'R', 'T'])}\n",
    "\n",
    "def war_init():\n",
    "    return np.zeros((7, 7))\n",
    "\n",
    "def affinity_init():\n",
    "    return np.array([\n",
    "        #   A,   E,   F,   G,   I,   R,   T\n",
    "        [   0,   0,   0,   1,   1,   0,   0],  # A\n",
    "        [   0,   0,  .5,   0,   0,  .5,   0],  # E\n",
    "        [   0,  .5,   0,   0,   0,   1,   0],  # F\n",
    "        [   1,   0,   0,   0,   1,   0,   1],  # G\n",
    "        [   1,   0,   0,   1,   0,   0,   0],  # I\n",
    "        [   0,  .5,   1,   0,   0,   0,   0],  # R\n",
    "        [   0,   0,   0,   1,   0,   0,   0]   # T\n",
    "    ])\n",
    "\n",
    "def power_init():\n",
    "    #                  A,   E,   F,   G,   I,   R,   T\n",
    "    return np.array([-.2,  .4,  .2,  .6, -.2, -.2, -.2])\n",
    "\n",
    "def aggression():\n",
    "    #                  A,   E,   F,   G,   I,   R,   T\n",
    "    return np.array([  0,   0,   0,   0,   0,   0,   0])\n",
    "\n",
    "def proximity():\n",
    "    return np.array([\n",
    "        #   A,   E,   F,   G,   I,   R,   T\n",
    "        [   0,  .5,  .5,   1,   1,   1,   1],  # A\n",
    "        [  .5,   0,   1,   1,  .5,  .5, .25],  # E\n",
    "        [  .5,   1,   0,   1,   1,  .5, .25],  # F\n",
    "        [   1,   1,   1,   0,   1,   1,  .5],  # G\n",
    "        [   1,  .5,   1,   1,   0,  .5,  .5],  # I\n",
    "        [   1,  .5,  .5,   1,  .5,   0,   1],  # R\n",
    "        [   1, .25, .25,  .5,  .5,   1,   0]   # T\n",
    "    ])\n",
    "\n",
    "def balkans_event():\n",
    "    return np.array([\n",
    "        #   A,   E,   F,   G,   I,   R,   T\n",
    "        [   0,   0,   0,   0,   0,  .8,   0],  # A\n",
    "        [   0,   0,   0,   0,   0,   0,   0],  # E\n",
    "        [   0,   0,   0,   0,   0,   0,   0],  # F\n",
    "        [   0,   0,   0,   0,   0,   0,   0],  # G\n",
    "        [   0,   0,   0,   0,   0,   0,   0],  # I\n",
    "        [  .8,   0,   0,   0,   0,   0,  .5],  # R\n",
    "        [   0,   0,   0,   0,   0,  .5,   0],  # T\n",
    "    ])\n",
    "\n",
    "\n",
    "# Base transitions: (p, increment)\n",
    "\n",
    "def base_war_trans():\n",
    "    #                     up,     same,     down\n",
    "    return np.array([(.05, 1), (.75, 0), (.2, -1)])\n",
    "\n",
    "def base_affinity_trans():\n",
    "    #                   down 2,      down 1,      same,       up 1,      up 2\n",
    "    return np.array([(.022, -1), (.137, -.5), (.682, 0), (.137, .5), (.022, 1)])\n",
    "\n",
    "def change(base):\n",
    "    return np.random.choice([e[1] for e in base], 1, p=[e[0] for e in base])[0]"
   ]
  },
  {
   "cell_type": "code",
   "execution_count": 3,
   "metadata": {},
   "outputs": [],
   "source": [
    "# Rounds to given precision, i.e. step size.\n",
    "def round_p(n, precision = 1):\n",
    "    return np.round(n / precision) * precision\n",
    "\n",
    "# Discretizes by model variable type.\n",
    "def disc(n, var):\n",
    "    precisions = {'w': 1, 'a': .5, 'p': .1}\n",
    "    return round_p(n, precisions[var])\n",
    "\n",
    "def bound(n, var):\n",
    "    mins = {'w': 0, 'a': -1, 'p': -1}\n",
    "    return min(1, max(mins[var], n))"
   ]
  },
  {
   "cell_type": "code",
   "execution_count": 7,
   "metadata": {},
   "outputs": [],
   "source": [
    "war_state = war_init()\n",
    "aff_state = affinity_init()\n",
    "pow_state = power_init()\n",
    "prox = proximity()\n",
    "agg = aggression()\n",
    "e0 = balkans_event()\n",
    "\n",
    "N = len(war_state)\n",
    "\n",
    "base_war = base_war_trans()\n",
    "base_aff = base_affinity_trans()\n",
    "pow_aff = 0.1\n",
    "\n",
    "def war(c1, c2, war0, aff0, pow0):\n",
    "    war1 = 1  # TODO: fill\n",
    "    return bound(disc(war1, 'w'), 'w')\n",
    "\n",
    "def affinity(c1, c2, war0, aff0, pow0):\n",
    "    aff1 = aff0[c1][c2] + pow_aff * (pow0[c1] - pow0[c2]) + change(base_aff)\n",
    "    return bound(disc(aff1, 'a'), 'a')\n",
    "\n",
    "def power(c1, aff0, pow0, proximity):\n",
    "    pow1 = pow0[c1] + np.sum([aff0[c1][c2] * pow0[c2] * proximity[c1][c2] for c2 in range(N)])\n",
    "    return bound(disc(pow1, 'p'), 'p')"
   ]
  },
  {
   "cell_type": "code",
   "execution_count": null,
   "metadata": {},
   "outputs": [],
   "source": []
  }
 ],
 "metadata": {
  "kernelspec": {
   "display_name": "Python 3",
   "language": "python",
   "name": "python3"
  },
  "language_info": {
   "codemirror_mode": {
    "name": "ipython",
    "version": 3
   },
   "file_extension": ".py",
   "mimetype": "text/x-python",
   "name": "python",
   "nbconvert_exporter": "python",
   "pygments_lexer": "ipython3",
   "version": "3.7.4"
  }
 },
 "nbformat": 4,
 "nbformat_minor": 4
}
